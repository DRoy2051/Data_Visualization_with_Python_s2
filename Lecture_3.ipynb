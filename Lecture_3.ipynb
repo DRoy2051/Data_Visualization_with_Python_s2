{
  "cells": [
    {
      "cell_type": "markdown",
      "metadata": {
        "id": "view-in-github",
        "colab_type": "text"
      },
      "source": [
        "<a href=\"https://colab.research.google.com/github/SKawsar/Data_Visualization_with_Python_s2/blob/main/Lecture_3.ipynb\" target=\"_parent\"><img src=\"https://colab.research.google.com/assets/colab-badge.svg\" alt=\"Open In Colab\"/></a>"
      ]
    },
    {
      "cell_type": "markdown",
      "metadata": {
        "id": "Ws2KB6e1urpT"
      },
      "source": [
        "# Lecture 03: Data Visualization: Pie Chart, Bar plot\n",
        "\n",
        "Instructor:\n",
        "<br>**Md Shahidullah Kawsar**\n",
        "<br>Data Scientist, IDARE, Houston, TX, USA\n",
        "\n",
        "#### Objectives:\n",
        "- Familiarity with matplotlib and seaborn\n",
        "- Data Analysis using NumPy and Pandas\n",
        "- How to find the number of unique values present in the DataFrame?\n",
        "- How to rename a column name is pandas DataFrame?\n",
        "- How to round the numeric values in a pandas column?\n",
        "- How to change the index of a DataFrame?\n",
        "- How to write functions in Python?\n",
        "- Data Visualization: Pie Chart, Bar plot\n",
        "- How to change the context of a plot?\n",
        "- How to create subplots?\n",
        "- How to set a title, xlabel and ylabel of a plot?\n",
        "- How to change the range of x and y axis?\n",
        "- How to rotate the x and y tick labels?\n",
        "\n",
        "#### References:\n",
        "[1] How to count unique values in a column: https://pandas.pydata.org/docs/reference/api/pandas.Series.value_counts.html\n",
        "<br>[2] How to change a column name: https://pandas.pydata.org/pandas-docs/stable/reference/api/pandas.DataFrame.rename.html\n",
        "<br>[3] How to change index of a pandas DataFrame: https://pandas.pydata.org/pandas-docs/stable/reference/api/pandas.DataFrame.reset_index.html\n",
        "<br>[4] How to round values in a DataFrame: https://pandas.pydata.org/docs/reference/api/pandas.DataFrame.round.html\n",
        "<br>[5] Subplot in matplotlib: https://matplotlib.org/stable/gallery/subplots_axes_and_figures/subplots_demo.html\n",
        "<br>[6] How to add annotation in matplotlib Barplot: https://stackoverflow.com/questions/30228069/how-to-display-the-value-of-the-bar-on-each-bar-with-pyplot-barh\n",
        "<br>[7] Seaborn Barplot: https://seaborn.pydata.org/generated/seaborn.barplot.html\n",
        "<br>[8] How to change context of an image: https://seaborn.pydata.org/generated/seaborn.set_context.html\n",
        "<br>[9] How to add annotation in Seaborn Barplot: https://datavizpyr.com/how-to-annotate-bars-in-barplot-with-matplotlib-in-python/"
      ]
    },
    {
      "cell_type": "markdown",
      "metadata": {
        "id": "bosmZEHgurpW"
      },
      "source": [
        "#### Import required libraries and packages"
      ]
    },
    {
      "cell_type": "code",
      "execution_count": null,
      "metadata": {
        "id": "qkvum6aYurpX"
      },
      "outputs": [],
      "source": [
        ""
      ]
    },
    {
      "cell_type": "markdown",
      "metadata": {
        "id": "TfA6a-t7urpX"
      },
      "source": [
        "#### Read a csv file as pandas DataFrame"
      ]
    },
    {
      "cell_type": "code",
      "execution_count": null,
      "metadata": {
        "id": "ttXFEapOurpY"
      },
      "outputs": [],
      "source": [
        ""
      ]
    },
    {
      "cell_type": "markdown",
      "metadata": {
        "id": "MBbdvhogurpY"
      },
      "source": [
        "#### Check for missing values, data types of the columns"
      ]
    },
    {
      "cell_type": "code",
      "execution_count": null,
      "metadata": {
        "id": "kcc-lH-HurpY"
      },
      "outputs": [],
      "source": [
        ""
      ]
    },
    {
      "cell_type": "markdown",
      "metadata": {
        "id": "EKKv7r4DurpZ"
      },
      "source": [
        "#### Count the number of unique values present in the 'year' column"
      ]
    },
    {
      "cell_type": "code",
      "execution_count": null,
      "metadata": {
        "id": "Po05cr07urpZ"
      },
      "outputs": [],
      "source": [
        ""
      ]
    },
    {
      "cell_type": "markdown",
      "metadata": {
        "id": "mW-mfyDVurpZ"
      },
      "source": [
        "#### Count the number of unique values present in the 'model' column"
      ]
    },
    {
      "cell_type": "code",
      "execution_count": null,
      "metadata": {
        "id": "nAYqdWUEurpa"
      },
      "outputs": [],
      "source": [
        ""
      ]
    },
    {
      "cell_type": "markdown",
      "metadata": {
        "id": "Ztjr_zuturpa"
      },
      "source": [
        "#### Count the number of unique values present in the 'transmission' column"
      ]
    },
    {
      "cell_type": "code",
      "execution_count": null,
      "metadata": {
        "id": "1dJ0JQkCurpa"
      },
      "outputs": [],
      "source": [
        ""
      ]
    },
    {
      "cell_type": "markdown",
      "metadata": {
        "id": "Oppa4Rc7urpb"
      },
      "source": [
        "#### Count the number of unique values present in the 'fuelType' column"
      ]
    },
    {
      "cell_type": "code",
      "execution_count": null,
      "metadata": {
        "id": "a4TWc6ynurpb"
      },
      "outputs": [],
      "source": [
        ""
      ]
    },
    {
      "cell_type": "markdown",
      "metadata": {
        "id": "3poKJKK-urpb"
      },
      "source": [
        "#### Pie Chart"
      ]
    },
    {
      "cell_type": "code",
      "execution_count": null,
      "metadata": {
        "id": "L_VXEJqRurpb"
      },
      "outputs": [],
      "source": [
        ""
      ]
    },
    {
      "cell_type": "markdown",
      "metadata": {
        "id": "NMyDiU0Qurpb"
      },
      "source": [
        "#### Problems with pie Chart"
      ]
    },
    {
      "cell_type": "code",
      "execution_count": null,
      "metadata": {
        "id": "mH5zOiDaurpc"
      },
      "outputs": [],
      "source": [
        ""
      ]
    },
    {
      "cell_type": "markdown",
      "metadata": {
        "id": "P7kH6H-lurpc"
      },
      "source": [
        "#### Find the percentage of unique values present in the 'fuelType' column"
      ]
    },
    {
      "cell_type": "code",
      "execution_count": null,
      "metadata": {
        "id": "BgYHwf5durpc"
      },
      "outputs": [],
      "source": [
        ""
      ]
    },
    {
      "cell_type": "markdown",
      "metadata": {
        "id": "Z2iMqPV4urpc"
      },
      "source": [
        "#### Create a Barplot for the 'fuelType' column"
      ]
    },
    {
      "cell_type": "code",
      "execution_count": null,
      "metadata": {
        "id": "Pp_RZ1dJurpc"
      },
      "outputs": [],
      "source": [
        ""
      ]
    },
    {
      "cell_type": "markdown",
      "metadata": {
        "id": "e9opv3zourpd"
      },
      "source": [
        "#### Find the percentage of unique values present in the 'transmission' column"
      ]
    },
    {
      "cell_type": "code",
      "execution_count": null,
      "metadata": {
        "id": "2RN3zOprurpd"
      },
      "outputs": [],
      "source": [
        ""
      ]
    },
    {
      "cell_type": "markdown",
      "metadata": {
        "id": "sDFAveUSurpd"
      },
      "source": [
        "#### Create a Barplot for the 'transmission' column"
      ]
    },
    {
      "cell_type": "code",
      "execution_count": null,
      "metadata": {
        "id": "SDV561NJurpd"
      },
      "outputs": [],
      "source": [
        ""
      ]
    },
    {
      "cell_type": "markdown",
      "metadata": {
        "id": "AyR8v_Ckurpd"
      },
      "source": [
        "#### Find the percentage of unique values present in the 'model' column"
      ]
    },
    {
      "cell_type": "code",
      "execution_count": null,
      "metadata": {
        "scrolled": false,
        "id": "aol8_o3surpd"
      },
      "outputs": [],
      "source": [
        ""
      ]
    },
    {
      "cell_type": "markdown",
      "metadata": {
        "id": "M2kqv7Ocurpd"
      },
      "source": [
        "#### Create a Barplot for the 'model' column"
      ]
    },
    {
      "cell_type": "code",
      "execution_count": null,
      "metadata": {
        "id": "jV42FXx5urpd"
      },
      "outputs": [],
      "source": [
        ""
      ]
    },
    {
      "cell_type": "markdown",
      "metadata": {
        "id": "fm7_iHKJurpe"
      },
      "source": [
        "#### Can you plot the above barplots side by side?"
      ]
    },
    {
      "cell_type": "code",
      "execution_count": null,
      "metadata": {
        "id": "LtOwVLkWurpe"
      },
      "outputs": [],
      "source": [
        ""
      ]
    },
    {
      "cell_type": "markdown",
      "metadata": {
        "id": "N0wPHuHdurpe"
      },
      "source": [
        "#### Create a function to find the number of observations for unique value in a column of a DataFrame"
      ]
    },
    {
      "cell_type": "code",
      "execution_count": null,
      "metadata": {
        "id": "UpBTsF9Rurpe"
      },
      "outputs": [],
      "source": [
        ""
      ]
    },
    {
      "cell_type": "markdown",
      "metadata": {
        "id": "bkjS7d12urpe"
      },
      "source": [
        "#### Create a function to show the number of observations for each unique value in a column using a barplot"
      ]
    },
    {
      "cell_type": "code",
      "execution_count": null,
      "metadata": {
        "id": "30tm9X09urpe"
      },
      "outputs": [],
      "source": [
        ""
      ]
    }
  ],
  "metadata": {
    "kernelspec": {
      "display_name": "Python 3",
      "language": "python",
      "name": "python3"
    },
    "language_info": {
      "codemirror_mode": {
        "name": "ipython",
        "version": 3
      },
      "file_extension": ".py",
      "mimetype": "text/x-python",
      "name": "python",
      "nbconvert_exporter": "python",
      "pygments_lexer": "ipython3",
      "version": "3.7.7"
    },
    "colab": {
      "name": "Lecture_3.ipynb",
      "provenance": [],
      "include_colab_link": true
    }
  },
  "nbformat": 4,
  "nbformat_minor": 0
}