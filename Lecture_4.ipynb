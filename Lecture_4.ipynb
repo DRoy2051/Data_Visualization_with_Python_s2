{
  "cells": [
    {
      "cell_type": "markdown",
      "metadata": {
        "id": "view-in-github",
        "colab_type": "text"
      },
      "source": [
        "<a href=\"https://colab.research.google.com/github/SKawsar/Data_Visualization_with_Python_s2/blob/main/Lecture_4.ipynb\" target=\"_parent\"><img src=\"https://colab.research.google.com/assets/colab-badge.svg\" alt=\"Open In Colab\"/></a>"
      ]
    },
    {
      "cell_type": "markdown",
      "metadata": {
        "id": "S3lsF-WSEhn4"
      },
      "source": [
        "# Lecture 04: Data Visualization: Line Chart\n",
        "\n",
        "Instructor:\n",
        "<br>Md Shahidullah Kawsar\n",
        "<br>Data Scientist, IDARE, Houston, TX, USA\n",
        "\n",
        "#### Objectives:\n",
        "- How to create a DataFrame?\n",
        "- How to create new column in a DataFrame?\n",
        "- How to create a function?\n",
        "- What is slope?\n",
        "- What's the equation of a straight line?\n",
        "- Line plot\n",
        "- How to draw multiple line charts in the same figure?\n",
        "- How to change the color, linestyle and marker of a figure?\n",
        "- How to modify the legend of a figure?\n",
        "- How to create Subplot?\n",
        "\n",
        "#### References:\n",
        "[1] Markers: https://matplotlib.org/stable/api/markers_api.html\n",
        "<br>[2] Matplotlib line chart: https://matplotlib.org/stable/api/_as_gen/matplotlib.pyplot.plot.html\n",
        "<br>[3] Legend: https://matplotlib.org/stable/api/_as_gen/matplotlib.pyplot.legend.html\n",
        "<br>[4] Straight Line and Slope - Chamok Hasan: https://www.youtube.com/watch?v=C_wJwE_N1JQ&ab_channel=ChamokHasan"
      ]
    },
    {
      "cell_type": "code",
      "execution_count": null,
      "metadata": {
        "id": "UMbSQCScEhn7"
      },
      "outputs": [],
      "source": [
        ""
      ]
    },
    {
      "cell_type": "markdown",
      "metadata": {
        "id": "2xt0GsahEhn8"
      },
      "source": [
        "#### Creating new dataframe"
      ]
    },
    {
      "cell_type": "code",
      "execution_count": null,
      "metadata": {
        "id": "j6mIoXc_Ehn9"
      },
      "outputs": [],
      "source": [
        ""
      ]
    },
    {
      "cell_type": "markdown",
      "metadata": {
        "id": "uKKKsT9QEhn9"
      },
      "source": [
        "#### Creating new straight lines"
      ]
    },
    {
      "cell_type": "code",
      "execution_count": null,
      "metadata": {
        "id": "4KJusG4MEhn-"
      },
      "outputs": [],
      "source": [
        ""
      ]
    },
    {
      "cell_type": "markdown",
      "metadata": {
        "id": "ssCPKA4PEhn-"
      },
      "source": [
        "#### Create a lineplot function"
      ]
    },
    {
      "cell_type": "code",
      "execution_count": null,
      "metadata": {
        "id": "H98Hz2DtEhn_"
      },
      "outputs": [],
      "source": [
        ""
      ]
    },
    {
      "cell_type": "markdown",
      "metadata": {
        "id": "EXbebUigEhn_"
      },
      "source": [
        "#### Creating subplots"
      ]
    },
    {
      "cell_type": "code",
      "execution_count": null,
      "metadata": {
        "id": "_njJx-YuEhoA"
      },
      "outputs": [],
      "source": [
        ""
      ]
    },
    {
      "cell_type": "markdown",
      "metadata": {
        "id": "YqE6iVlXEhoB"
      },
      "source": [
        "#### Varying the marker, color, and linestyle"
      ]
    },
    {
      "cell_type": "code",
      "execution_count": null,
      "metadata": {
        "id": "R_sPDEDjEhoB"
      },
      "outputs": [],
      "source": [
        ""
      ]
    },
    {
      "cell_type": "markdown",
      "metadata": {
        "id": "IKZFAleYEhoC"
      },
      "source": [
        "#### Multiple lineplots in the same figure"
      ]
    },
    {
      "cell_type": "code",
      "execution_count": null,
      "metadata": {
        "id": "NsrgikT7EhoC"
      },
      "outputs": [],
      "source": [
        ""
      ]
    }
  ],
  "metadata": {
    "kernelspec": {
      "display_name": "Python 3",
      "language": "python",
      "name": "python3"
    },
    "language_info": {
      "codemirror_mode": {
        "name": "ipython",
        "version": 3
      },
      "file_extension": ".py",
      "mimetype": "text/x-python",
      "name": "python",
      "nbconvert_exporter": "python",
      "pygments_lexer": "ipython3",
      "version": "3.7.7"
    },
    "colab": {
      "name": "Lecture_4.ipynb",
      "provenance": [],
      "collapsed_sections": [],
      "include_colab_link": true
    }
  },
  "nbformat": 4,
  "nbformat_minor": 0
}