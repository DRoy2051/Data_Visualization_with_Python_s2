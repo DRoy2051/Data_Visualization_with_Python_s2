{
  "cells": [
    {
      "cell_type": "markdown",
      "metadata": {
        "id": "view-in-github",
        "colab_type": "text"
      },
      "source": [
        "<a href=\"https://colab.research.google.com/github/SKawsar/Data_Visualization_with_Python_s2/blob/main/Lecture_7.ipynb\" target=\"_parent\"><img src=\"https://colab.research.google.com/assets/colab-badge.svg\" alt=\"Open In Colab\"/></a>"
      ]
    },
    {
      "cell_type": "markdown",
      "metadata": {
        "id": "0e7rNj3FZ8jm"
      },
      "source": [
        "# Lecture 07: Data Visualization: Boxplot, Violinplot\n",
        "\n",
        "Instructor: Md Shahidullah Kawsar\n",
        "<br>Data Scientist, IDARE, Houston, TX, USA\n",
        "\n",
        "#### Objectives:\n",
        "- Boxplot\n",
        "- Violinplot\n",
        "\n",
        "#### References:\n",
        "[1] https://matplotlib.org/stable/api/_as_gen/matplotlib.axes.Axes.boxplot.html\n",
        "<br>[2] Seaborn Boxplot: https://seaborn.pydata.org/generated/seaborn.boxplot.html\n",
        "<br>[3] Seaborn Violinplot: https://seaborn.pydata.org/generated/seaborn.violinplot.html\n",
        "<br>[4] Color palettes: https://seaborn.pydata.org/tutorial/color_palettes.html\n",
        "<br>[5] Boxplots are Awesome!!!: https://www.youtube.com/watch?v=fHLhBnmwUM0&ab_channel=StatQuestwithJoshStarmer\n",
        "<br>[6] Quantiles and Percentiles, Clearly Explained!!!: https://www.youtube.com/watch?v=IFKQLDmRK0Y&ab_channel=StatQuestwithJoshStarmer"
      ]
    },
    {
      "cell_type": "code",
      "execution_count": null,
      "metadata": {
        "id": "InQ92kwiZ8jn"
      },
      "outputs": [],
      "source": [
        "# required library for data analysis\n",
        "import pandas as pd\n",
        "import numpy as np\n",
        "\n",
        "# required librairies for data visualization\n",
        "import matplotlib.pyplot as plt\n",
        "import seaborn as sns\n",
        "\n",
        "sns.set_context(\"talk\")"
      ]
    },
    {
      "cell_type": "markdown",
      "metadata": {
        "id": "cy5x7JBsZ8jo"
      },
      "source": [
        "#### Loading the dataset"
      ]
    },
    {
      "cell_type": "code",
      "execution_count": null,
      "metadata": {
        "id": "qH-LtgidZ8jo"
      },
      "outputs": [],
      "source": [
        ""
      ]
    },
    {
      "cell_type": "markdown",
      "metadata": {
        "id": "mVyPMw_bZ8jp"
      },
      "source": [
        "#### create a boxplot"
      ]
    },
    {
      "cell_type": "code",
      "execution_count": null,
      "metadata": {
        "id": "XyoJaAuFZ8jp"
      },
      "outputs": [],
      "source": [
        ""
      ]
    },
    {
      "cell_type": "markdown",
      "metadata": {
        "id": "7ub83nr0Z8jp"
      },
      "source": [
        "#### Separate the numerical columns"
      ]
    },
    {
      "cell_type": "code",
      "execution_count": null,
      "metadata": {
        "id": "We2F2JA-Z8jp"
      },
      "outputs": [],
      "source": [
        ""
      ]
    },
    {
      "cell_type": "markdown",
      "metadata": {
        "id": "YP5mOfIWZ8jp"
      },
      "source": [
        "#### Create a for loop to show the boxplots of all numeric features"
      ]
    },
    {
      "cell_type": "code",
      "execution_count": null,
      "metadata": {
        "id": "kiFjW9yaZ8jp"
      },
      "outputs": [],
      "source": [
        ""
      ]
    },
    {
      "cell_type": "markdown",
      "metadata": {
        "id": "_AVGIc-QZ8jq"
      },
      "source": [
        "#### Adding categorical features in the boxplot"
      ]
    },
    {
      "cell_type": "code",
      "execution_count": null,
      "metadata": {
        "id": "xGAK6jnLZ8jq"
      },
      "outputs": [],
      "source": [
        ""
      ]
    },
    {
      "cell_type": "markdown",
      "metadata": {
        "id": "jswz8UiZZ8jq"
      },
      "source": [
        "#### Adding categorical features (hue) in the boxplot"
      ]
    },
    {
      "cell_type": "code",
      "execution_count": null,
      "metadata": {
        "id": "XZjYGIyqZ8jq"
      },
      "outputs": [],
      "source": [
        ""
      ]
    },
    {
      "cell_type": "markdown",
      "metadata": {
        "id": "NEF7wds2Z8jq"
      },
      "source": [
        "#### Comparing boxplots and violinplot"
      ]
    },
    {
      "cell_type": "code",
      "execution_count": null,
      "metadata": {
        "id": "07a-rKmSZ8jq"
      },
      "outputs": [],
      "source": [
        ""
      ]
    },
    {
      "cell_type": "code",
      "execution_count": null,
      "metadata": {
        "id": "oW-fkoHQZ8jr"
      },
      "outputs": [],
      "source": [
        ""
      ]
    }
  ],
  "metadata": {
    "kernelspec": {
      "display_name": "Python 3",
      "language": "python",
      "name": "python3"
    },
    "language_info": {
      "codemirror_mode": {
        "name": "ipython",
        "version": 3
      },
      "file_extension": ".py",
      "mimetype": "text/x-python",
      "name": "python",
      "nbconvert_exporter": "python",
      "pygments_lexer": "ipython3",
      "version": "3.7.7"
    },
    "colab": {
      "name": "Lecture_7.ipynb",
      "provenance": [],
      "include_colab_link": true
    }
  },
  "nbformat": 4,
  "nbformat_minor": 0
}