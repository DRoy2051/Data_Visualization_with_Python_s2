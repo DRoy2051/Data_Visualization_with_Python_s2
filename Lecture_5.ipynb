{
  "cells": [
    {
      "cell_type": "markdown",
      "metadata": {
        "id": "view-in-github",
        "colab_type": "text"
      },
      "source": [
        "<a href=\"https://colab.research.google.com/github/SKawsar/Data_Visualization_with_Python_s2/blob/main/Lecture_5.ipynb\" target=\"_parent\"><img src=\"https://colab.research.google.com/assets/colab-badge.svg\" alt=\"Open In Colab\"/></a>"
      ]
    },
    {
      "cell_type": "markdown",
      "metadata": {
        "id": "eMhtOEJIJvGd"
      },
      "source": [
        "# Lecture 05: Data Visualization: Scatter plot\n",
        "\n",
        "Instructor: Md Shahidullah Kawsar\n",
        "<br>Data Scientist, IDARE, Houston, TX, USA\n",
        "\n",
        "#### Objectives:\n",
        "- Scatter plot\n",
        "- Regression line\n",
        "- Pair plot\n",
        "\n",
        "#### References:\n",
        "[1] Seaborn Scatterplot: https://seaborn.pydata.org/generated/seaborn.scatterplot.html\n",
        "<br>[2] Seaborn Regression Line: https://seaborn.pydata.org/generated/seaborn.regplot.html\n",
        "<br>[3] Seaborn Pairplot: https://seaborn.pydata.org/generated/seaborn.pairplot.html#seaborn.pairplot\n",
        "\n",
        "dataset source: https://www.kaggle.com/aishwaryamuthukumar/cars-dataset-audi-bmw-ford-hyundai-skoda-vw"
      ]
    },
    {
      "cell_type": "markdown",
      "metadata": {
        "id": "0b5BTr2YJvGe"
      },
      "source": [
        "#### Import required libraries"
      ]
    },
    {
      "cell_type": "code",
      "execution_count": null,
      "metadata": {
        "id": "u4VlpUDiJvGe"
      },
      "outputs": [],
      "source": [
        "import pandas as pd\n",
        "import numpy as np\n",
        "import matplotlib.pyplot as plt\n",
        "import seaborn as sns\n",
        "\n",
        "sns.set_context('talk')"
      ]
    },
    {
      "cell_type": "markdown",
      "metadata": {
        "id": "yR-VY1soJvGf"
      },
      "source": [
        "#### Load the dataset"
      ]
    },
    {
      "cell_type": "code",
      "execution_count": null,
      "metadata": {
        "id": "kp96HClFJvGf"
      },
      "outputs": [],
      "source": [
        ""
      ]
    },
    {
      "cell_type": "markdown",
      "metadata": {
        "id": "uYL-8h8yJvGf"
      },
      "source": [
        "#### Find the relation between the numerical variables\n",
        "\n",
        "- Scatterplot of mileage vs price\n",
        "- Scatterplot of mpg vs price\n",
        "- Scatterplot of engineSize vs price"
      ]
    },
    {
      "cell_type": "code",
      "execution_count": null,
      "metadata": {
        "id": "49is84jLJvGf"
      },
      "outputs": [],
      "source": [
        ""
      ]
    },
    {
      "cell_type": "markdown",
      "metadata": {
        "id": "jYMjZePqJvGf"
      },
      "source": [
        "#### Changing the hue parameter"
      ]
    },
    {
      "cell_type": "code",
      "execution_count": null,
      "metadata": {
        "id": "DMhBqp2nJvGg"
      },
      "outputs": [],
      "source": [
        ""
      ]
    },
    {
      "cell_type": "markdown",
      "metadata": {
        "id": "-vwIuY3bJvGg"
      },
      "source": [
        "#### Creating a trend line"
      ]
    },
    {
      "cell_type": "code",
      "execution_count": null,
      "metadata": {
        "id": "dnNX3q2hJvGg"
      },
      "outputs": [],
      "source": [
        ""
      ]
    },
    {
      "cell_type": "markdown",
      "metadata": {
        "id": "89axlXfyJvGg"
      },
      "source": [
        "#### Pairplot"
      ]
    },
    {
      "cell_type": "code",
      "execution_count": null,
      "metadata": {
        "id": "u3s4PShmJvGg"
      },
      "outputs": [],
      "source": [
        ""
      ]
    },
    {
      "cell_type": "markdown",
      "metadata": {
        "id": "NXTs4JngJvGh"
      },
      "source": [
        "#### Removing the additional plots"
      ]
    },
    {
      "cell_type": "code",
      "execution_count": null,
      "metadata": {
        "id": "7L2PRJrpJvGh"
      },
      "outputs": [],
      "source": [
        ""
      ]
    },
    {
      "cell_type": "markdown",
      "metadata": {
        "id": "GAiHNLJcJvGh"
      },
      "source": [
        "#### Adding categorical feature"
      ]
    },
    {
      "cell_type": "code",
      "execution_count": null,
      "metadata": {
        "id": "f73dR22YJvGh"
      },
      "outputs": [],
      "source": [
        ""
      ]
    },
    {
      "cell_type": "markdown",
      "metadata": {
        "id": "fLO6z1y5JvGh"
      },
      "source": [
        "#### Checking an example from the documentation"
      ]
    },
    {
      "cell_type": "code",
      "execution_count": null,
      "metadata": {
        "id": "qKXnGQbxJvGh"
      },
      "outputs": [],
      "source": [
        ""
      ]
    }
  ],
  "metadata": {
    "kernelspec": {
      "display_name": "Python 3",
      "language": "python",
      "name": "python3"
    },
    "language_info": {
      "codemirror_mode": {
        "name": "ipython",
        "version": 3
      },
      "file_extension": ".py",
      "mimetype": "text/x-python",
      "name": "python",
      "nbconvert_exporter": "python",
      "pygments_lexer": "ipython3",
      "version": "3.7.7"
    },
    "colab": {
      "name": "Lecture_5.ipynb",
      "provenance": [],
      "include_colab_link": true
    }
  },
  "nbformat": 4,
  "nbformat_minor": 0
}