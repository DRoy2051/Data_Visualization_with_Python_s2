{
  "cells": [
    {
      "cell_type": "markdown",
      "metadata": {
        "id": "view-in-github",
        "colab_type": "text"
      },
      "source": [
        "<a href=\"https://colab.research.google.com/github/SKawsar/Data_Visualization_with_Python_s2/blob/main/Lecture_6.ipynb\" target=\"_parent\"><img src=\"https://colab.research.google.com/assets/colab-badge.svg\" alt=\"Open In Colab\"/></a>"
      ]
    },
    {
      "cell_type": "markdown",
      "metadata": {
        "id": "_dHusL-9ZYE_"
      },
      "source": [
        "# Lecture 06: Data Visualization: Histogram, Distribution, ECDF\n",
        "\n",
        "Instructor: Md Shahidullah Kawsar\n",
        "<br>Data Scientist, IDARE, Houston, TX, USA\n",
        "\n",
        "#### Objectives:\n",
        "- Histogram\n",
        "- Distribution\n",
        "- ecdf (empirical cumulative distribution function)\n",
        "\n",
        "#### References:\n",
        "<br>[1] https://seaborn.pydata.org/generated/seaborn.histplot.html\n",
        "<br>[2] The Main Ideas behind Probability Distributions: https://www.youtube.com/watch?v=oI3hZJqXJuc&ab_channel=StatQuestwithJoshStarmer\n",
        "<br>[3] StatQuest: Histograms, Clearly Explained: https://www.youtube.com/watch?v=qBigTkBLU6g&ab_channel=StatQuestwithJoshStarmer\n",
        "<br>[4] The Normal Distribution, Clearly Explained!!!: https://www.youtube.com/watch?v=rzFX5NWojp0&list=RDCMUCtYLUTtgS3k1Fg4y5tAhLbw&index=4&ab_channel=StatQuestwithJoshStarmer\n",
        "<br>[5] The Central Limit Theorem, Clearly Explained!!!: https://www.youtube.com/watch?v=YAlJCEDH2uY&ab_channel=StatQuestwithJoshStarmer\n",
        "<br>[6] https://statquest.org/\n",
        "\n",
        "### What is customer churn?\n",
        "Source: https://learn.datacamp.com/courses/marketing-analytics-predicting-customer-churn-in-python\n",
        "\n",
        "When an existing customer, user, player, subscriber or any kind of return client stops doing business or ends the relationship with a company is called customer churn.\n",
        "\n",
        "**Contractual churn:** When a customer is under contract for a service and decides to cancel their service. Example: Cable TV, SaaS products (Software as a Service e.g. Dropbox).\n",
        "\n",
        "**Voluntary churn:** When a user voluntarily cancels a service and includes prepaid cell phones, streaming subscriptions.\n",
        "\n",
        "**Non-contractual churn:** When a customer is not under contract for a service and includes customer loyality at a retail location or online browsing. \n",
        "\n",
        "**Involuntary churn:** When a churn occurs not at the request of the customer. For example: credit card expiration, utilities being shut off by the provider.\n",
        "\n",
        "Most likely, you as a customer have cancelled a service for a variety of reasons including lack of usage, poor service or better price. "
      ]
    },
    {
      "cell_type": "code",
      "execution_count": null,
      "metadata": {
        "id": "OS_Ijp7rZYFA"
      },
      "outputs": [],
      "source": [
        "# required library for data analysis\n",
        "import pandas as pd\n",
        "import numpy as np\n",
        "\n",
        "# required librairies for data visualization\n",
        "import matplotlib.pyplot as plt\n",
        "import seaborn as sns\n",
        "\n",
        "sns.set_context('talk')"
      ]
    },
    {
      "cell_type": "markdown",
      "metadata": {
        "id": "5GLLgjsKZYFB"
      },
      "source": [
        "![image.png](attachment:image.png)\n",
        "\n",
        "Source: https://mathematica.stackexchange.com/questions/173275/a-simple-fast-way-to-estimate-distribution-modality"
      ]
    },
    {
      "cell_type": "markdown",
      "metadata": {
        "id": "XTnmeVZ_ZYFB"
      },
      "source": [
        "![image.png](attachment:image.png)"
      ]
    },
    {
      "cell_type": "markdown",
      "metadata": {
        "id": "dqg7rB8RZYFC"
      },
      "source": [
        "![image.png](attachment:image.png)\n",
        "Source: https://www.researchgate.net/publication/303770982_Segmentation_of_Individual_Trees_From_TLS_and_MLS_Data/figures?lo=1"
      ]
    },
    {
      "cell_type": "markdown",
      "metadata": {
        "id": "ZjQZbTR2ZYFC"
      },
      "source": [
        "Dataset: cellular usage dataset that consists of records of actual cell phone that include specific features such as\n",
        "\n",
        "1. **Account_Length**: the number of days the customer has the subscription with the telecom company\n",
        "\n",
        "2. **Vmail_Message**: the total number of voicemails the customer has sent\n",
        "\n",
        "3. **Total_mins**: the total number of minutes the customer has talked over the phone\n",
        "\n",
        "4. **CustServ_Calls**: the number of customer service calls the customer made\n",
        "\n",
        "5. **Churn**: yes and no - indicating whether or not the customer has churned\n",
        "\n",
        "6. **Intl_Plan**: yes and no - indicating whether or not the customer has international plan or not\n",
        "\n",
        "7. **Vmail_Plan**: yes and no - indicating whether or not the customer has voicemail plan or not\n",
        "\n",
        "8. **Total_calls**: the total number of calls the customer has made\n",
        "\n",
        "9. **Total_charges**: the total amount of bill in $ the customer has paid"
      ]
    },
    {
      "cell_type": "code",
      "execution_count": null,
      "metadata": {
        "id": "EXkd3HzSZYFC"
      },
      "outputs": [],
      "source": [
        ""
      ]
    },
    {
      "cell_type": "markdown",
      "metadata": {
        "id": "1Qx1OQAZZYFC"
      },
      "source": [
        "# Histogram using Seaborn"
      ]
    },
    {
      "cell_type": "code",
      "execution_count": null,
      "metadata": {
        "id": "fLci4nOSZYFC"
      },
      "outputs": [],
      "source": [
        ""
      ]
    },
    {
      "cell_type": "code",
      "execution_count": null,
      "metadata": {
        "id": "5W1qa7QmZYFD"
      },
      "outputs": [],
      "source": [
        ""
      ]
    },
    {
      "cell_type": "code",
      "execution_count": null,
      "metadata": {
        "id": "hMLyAHcQZYFD"
      },
      "outputs": [],
      "source": [
        ""
      ]
    }
  ],
  "metadata": {
    "kernelspec": {
      "display_name": "Python 3",
      "language": "python",
      "name": "python3"
    },
    "language_info": {
      "codemirror_mode": {
        "name": "ipython",
        "version": 3
      },
      "file_extension": ".py",
      "mimetype": "text/x-python",
      "name": "python",
      "nbconvert_exporter": "python",
      "pygments_lexer": "ipython3",
      "version": "3.7.7"
    },
    "colab": {
      "name": "Lecture_6.ipynb",
      "provenance": [],
      "include_colab_link": true
    }
  },
  "nbformat": 4,
  "nbformat_minor": 0
}